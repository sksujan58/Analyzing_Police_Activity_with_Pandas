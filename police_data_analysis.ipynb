{
 "cells": [
  {
   "cell_type": "code",
   "execution_count": 294,
   "metadata": {},
   "outputs": [],
   "source": [
    "import pandas as pd"
   ]
  },
  {
   "cell_type": "code",
   "execution_count": 295,
   "metadata": {},
   "outputs": [],
   "source": [
    "ri=pd.read_csv(\"police.csv\")"
   ]
  },
  {
   "cell_type": "code",
   "execution_count": 296,
   "metadata": {},
   "outputs": [
    {
     "data": {
      "text/html": [
       "<div>\n",
       "<style scoped>\n",
       "    .dataframe tbody tr th:only-of-type {\n",
       "        vertical-align: middle;\n",
       "    }\n",
       "\n",
       "    .dataframe tbody tr th {\n",
       "        vertical-align: top;\n",
       "    }\n",
       "\n",
       "    .dataframe thead th {\n",
       "        text-align: right;\n",
       "    }\n",
       "</style>\n",
       "<table border=\"1\" class=\"dataframe\">\n",
       "  <thead>\n",
       "    <tr style=\"text-align: right;\">\n",
       "      <th></th>\n",
       "      <th>stop_date</th>\n",
       "      <th>stop_time</th>\n",
       "      <th>county_name</th>\n",
       "      <th>driver_gender</th>\n",
       "      <th>driver_age_raw</th>\n",
       "      <th>driver_age</th>\n",
       "      <th>driver_race</th>\n",
       "      <th>violation_raw</th>\n",
       "      <th>violation</th>\n",
       "      <th>search_conducted</th>\n",
       "      <th>search_type</th>\n",
       "      <th>stop_outcome</th>\n",
       "      <th>is_arrested</th>\n",
       "      <th>stop_duration</th>\n",
       "      <th>drugs_related_stop</th>\n",
       "    </tr>\n",
       "  </thead>\n",
       "  <tbody>\n",
       "    <tr>\n",
       "      <th>0</th>\n",
       "      <td>2005-01-02</td>\n",
       "      <td>01:55</td>\n",
       "      <td>NaN</td>\n",
       "      <td>M</td>\n",
       "      <td>1985.0</td>\n",
       "      <td>20.0</td>\n",
       "      <td>White</td>\n",
       "      <td>Speeding</td>\n",
       "      <td>Speeding</td>\n",
       "      <td>False</td>\n",
       "      <td>NaN</td>\n",
       "      <td>Citation</td>\n",
       "      <td>False</td>\n",
       "      <td>0-15 Min</td>\n",
       "      <td>False</td>\n",
       "    </tr>\n",
       "    <tr>\n",
       "      <th>1</th>\n",
       "      <td>2005-01-18</td>\n",
       "      <td>08:15</td>\n",
       "      <td>NaN</td>\n",
       "      <td>M</td>\n",
       "      <td>1965.0</td>\n",
       "      <td>40.0</td>\n",
       "      <td>White</td>\n",
       "      <td>Speeding</td>\n",
       "      <td>Speeding</td>\n",
       "      <td>False</td>\n",
       "      <td>NaN</td>\n",
       "      <td>Citation</td>\n",
       "      <td>False</td>\n",
       "      <td>0-15 Min</td>\n",
       "      <td>False</td>\n",
       "    </tr>\n",
       "    <tr>\n",
       "      <th>2</th>\n",
       "      <td>2005-01-23</td>\n",
       "      <td>23:15</td>\n",
       "      <td>NaN</td>\n",
       "      <td>M</td>\n",
       "      <td>1972.0</td>\n",
       "      <td>33.0</td>\n",
       "      <td>White</td>\n",
       "      <td>Speeding</td>\n",
       "      <td>Speeding</td>\n",
       "      <td>False</td>\n",
       "      <td>NaN</td>\n",
       "      <td>Citation</td>\n",
       "      <td>False</td>\n",
       "      <td>0-15 Min</td>\n",
       "      <td>False</td>\n",
       "    </tr>\n",
       "    <tr>\n",
       "      <th>3</th>\n",
       "      <td>2005-02-20</td>\n",
       "      <td>17:15</td>\n",
       "      <td>NaN</td>\n",
       "      <td>M</td>\n",
       "      <td>1986.0</td>\n",
       "      <td>19.0</td>\n",
       "      <td>White</td>\n",
       "      <td>Call for Service</td>\n",
       "      <td>Other</td>\n",
       "      <td>False</td>\n",
       "      <td>NaN</td>\n",
       "      <td>Arrest Driver</td>\n",
       "      <td>True</td>\n",
       "      <td>16-30 Min</td>\n",
       "      <td>False</td>\n",
       "    </tr>\n",
       "    <tr>\n",
       "      <th>4</th>\n",
       "      <td>2005-03-14</td>\n",
       "      <td>10:00</td>\n",
       "      <td>NaN</td>\n",
       "      <td>F</td>\n",
       "      <td>1984.0</td>\n",
       "      <td>21.0</td>\n",
       "      <td>White</td>\n",
       "      <td>Speeding</td>\n",
       "      <td>Speeding</td>\n",
       "      <td>False</td>\n",
       "      <td>NaN</td>\n",
       "      <td>Citation</td>\n",
       "      <td>False</td>\n",
       "      <td>0-15 Min</td>\n",
       "      <td>False</td>\n",
       "    </tr>\n",
       "  </tbody>\n",
       "</table>\n",
       "</div>"
      ],
      "text/plain": [
       "    stop_date stop_time  county_name driver_gender  driver_age_raw  \\\n",
       "0  2005-01-02     01:55          NaN             M          1985.0   \n",
       "1  2005-01-18     08:15          NaN             M          1965.0   \n",
       "2  2005-01-23     23:15          NaN             M          1972.0   \n",
       "3  2005-02-20     17:15          NaN             M          1986.0   \n",
       "4  2005-03-14     10:00          NaN             F          1984.0   \n",
       "\n",
       "   driver_age driver_race     violation_raw violation  search_conducted  \\\n",
       "0        20.0       White          Speeding  Speeding             False   \n",
       "1        40.0       White          Speeding  Speeding             False   \n",
       "2        33.0       White          Speeding  Speeding             False   \n",
       "3        19.0       White  Call for Service     Other             False   \n",
       "4        21.0       White          Speeding  Speeding             False   \n",
       "\n",
       "  search_type   stop_outcome is_arrested stop_duration  drugs_related_stop  \n",
       "0         NaN       Citation       False      0-15 Min               False  \n",
       "1         NaN       Citation       False      0-15 Min               False  \n",
       "2         NaN       Citation       False      0-15 Min               False  \n",
       "3         NaN  Arrest Driver        True     16-30 Min               False  \n",
       "4         NaN       Citation       False      0-15 Min               False  "
      ]
     },
     "execution_count": 296,
     "metadata": {},
     "output_type": "execute_result"
    }
   ],
   "source": [
    "ri.head()"
   ]
  },
  {
   "cell_type": "code",
   "execution_count": 297,
   "metadata": {},
   "outputs": [
    {
     "name": "stdout",
     "output_type": "stream",
     "text": [
      "(91741, 15)\n",
      "(91741, 12)\n"
     ]
    }
   ],
   "source": [
    "# Examine the shape of the DataFrame\n",
    "print(ri.shape)\n",
    "\n",
    "# Drop the 'county_name' columns\n",
    "ri.drop([\"county_name\", 'driver_age_raw',\"driver_age\"], axis='columns', inplace=True)\n",
    "\n",
    "# Examine the shape of the DataFrame (again)\n",
    "print(ri.shape)"
   ]
  },
  {
   "cell_type": "code",
   "execution_count": 298,
   "metadata": {},
   "outputs": [],
   "source": [
    "# Index(['stop_date', 'stop_time', 'driver_gender', 'driver_race',\n",
    "#        'violation_raw', 'violation', 'search_conducted', 'search_type',\n",
    "#        'stop_outcome', 'is_arrested', 'stop_duration', 'drugs_related_stop',\n",
    "#        'district'],\n",
    "#       dtype='object')\n"
   ]
  },
  {
   "cell_type": "code",
   "execution_count": 299,
   "metadata": {},
   "outputs": [
    {
     "name": "stdout",
     "output_type": "stream",
     "text": [
      "Index(['stop_date', 'stop_time', 'driver_gender', 'driver_race',\n",
      "       'violation_raw', 'violation', 'search_conducted', 'search_type',\n",
      "       'stop_outcome', 'is_arrested', 'stop_duration', 'drugs_related_stop'],\n",
      "      dtype='object')\n"
     ]
    }
   ],
   "source": [
    "print(ri.columns)"
   ]
  },
  {
   "cell_type": "code",
   "execution_count": 300,
   "metadata": {},
   "outputs": [
    {
     "name": "stdout",
     "output_type": "stream",
     "text": [
      "stop_date                 0\n",
      "stop_time                 0\n",
      "driver_gender          5335\n",
      "driver_race            5333\n",
      "violation_raw          5333\n",
      "violation              5333\n",
      "search_conducted          0\n",
      "search_type           88545\n",
      "stop_outcome           5333\n",
      "is_arrested            5333\n",
      "stop_duration          5333\n",
      "drugs_related_stop        0\n",
      "dtype: int64\n"
     ]
    }
   ],
   "source": [
    "# Count the number of missing values in each column\n",
    "print(ri.isnull().sum())"
   ]
  },
  {
   "cell_type": "code",
   "execution_count": 301,
   "metadata": {},
   "outputs": [],
   "source": [
    "ri.dropna(subset=[\"driver_gender\"],inplace=True)"
   ]
  },
  {
   "cell_type": "code",
   "execution_count": 302,
   "metadata": {},
   "outputs": [
    {
     "name": "stdout",
     "output_type": "stream",
     "text": [
      "stop_date                 0\n",
      "stop_time                 0\n",
      "driver_gender             0\n",
      "driver_race               0\n",
      "violation_raw             0\n",
      "violation                 0\n",
      "search_conducted          0\n",
      "search_type           83210\n",
      "stop_outcome              0\n",
      "is_arrested               0\n",
      "stop_duration             0\n",
      "drugs_related_stop        0\n",
      "dtype: int64\n"
     ]
    }
   ],
   "source": [
    "# Count the number of missing values in each column (again)\n",
    "print(ri.isnull().sum())\n"
   ]
  },
  {
   "cell_type": "code",
   "execution_count": 303,
   "metadata": {},
   "outputs": [
    {
     "name": "stdout",
     "output_type": "stream",
     "text": [
      "(86406, 12)\n"
     ]
    }
   ],
   "source": [
    "# Examine the shape of the DataFrame\n",
    "print(ri.shape)"
   ]
  },
  {
   "cell_type": "code",
   "execution_count": 304,
   "metadata": {},
   "outputs": [
    {
     "data": {
      "text/plain": [
       "stop_date             object\n",
       "stop_time             object\n",
       "driver_gender         object\n",
       "driver_race           object\n",
       "violation_raw         object\n",
       "violation             object\n",
       "search_conducted        bool\n",
       "search_type           object\n",
       "stop_outcome          object\n",
       "is_arrested           object\n",
       "stop_duration         object\n",
       "drugs_related_stop      bool\n",
       "dtype: object"
      ]
     },
     "execution_count": 304,
     "metadata": {},
     "output_type": "execute_result"
    }
   ],
   "source": [
    "ri.dtypes"
   ]
  },
  {
   "cell_type": "code",
   "execution_count": 305,
   "metadata": {},
   "outputs": [
    {
     "name": "stdout",
     "output_type": "stream",
     "text": [
      "0    False\n",
      "1    False\n",
      "2    False\n",
      "3     True\n",
      "4    False\n",
      "Name: is_arrested, dtype: object\n"
     ]
    }
   ],
   "source": [
    "# Examine the head of the 'is_arrested' column\n",
    "print(ri.is_arrested.head())\n",
    "\n"
   ]
  },
  {
   "cell_type": "code",
   "execution_count": 306,
   "metadata": {},
   "outputs": [],
   "source": [
    "# Change the data type of 'is_arrested' to 'bool'\n",
    "ri['is_arrested'] = ri.is_arrested.astype(\"bool\")\n"
   ]
  },
  {
   "cell_type": "code",
   "execution_count": 307,
   "metadata": {},
   "outputs": [
    {
     "name": "stdout",
     "output_type": "stream",
     "text": [
      "bool\n"
     ]
    }
   ],
   "source": [
    "\n",
    "# Check the data type of 'is_arrested' \n",
    "print(ri.is_arrested.dtype)"
   ]
  },
  {
   "cell_type": "code",
   "execution_count": 308,
   "metadata": {},
   "outputs": [],
   "source": [
    "# Concatenate 'stop_date' and 'stop_time' (separated by a space)\n",
    "combined = ri.stop_date.str.cat(ri[\"stop_time\"], sep=\" \")"
   ]
  },
  {
   "cell_type": "code",
   "execution_count": 309,
   "metadata": {},
   "outputs": [],
   "source": [
    "# Convert 'combined' to datetime format\n",
    "ri['stop_datetime'] =combined"
   ]
  },
  {
   "cell_type": "code",
   "execution_count": 310,
   "metadata": {},
   "outputs": [
    {
     "data": {
      "text/html": [
       "<div>\n",
       "<style scoped>\n",
       "    .dataframe tbody tr th:only-of-type {\n",
       "        vertical-align: middle;\n",
       "    }\n",
       "\n",
       "    .dataframe tbody tr th {\n",
       "        vertical-align: top;\n",
       "    }\n",
       "\n",
       "    .dataframe thead th {\n",
       "        text-align: right;\n",
       "    }\n",
       "</style>\n",
       "<table border=\"1\" class=\"dataframe\">\n",
       "  <thead>\n",
       "    <tr style=\"text-align: right;\">\n",
       "      <th></th>\n",
       "      <th>stop_date</th>\n",
       "      <th>stop_time</th>\n",
       "      <th>driver_gender</th>\n",
       "      <th>driver_race</th>\n",
       "      <th>violation_raw</th>\n",
       "      <th>violation</th>\n",
       "      <th>search_conducted</th>\n",
       "      <th>search_type</th>\n",
       "      <th>stop_outcome</th>\n",
       "      <th>is_arrested</th>\n",
       "      <th>stop_duration</th>\n",
       "      <th>drugs_related_stop</th>\n",
       "      <th>stop_datetime</th>\n",
       "    </tr>\n",
       "  </thead>\n",
       "  <tbody>\n",
       "    <tr>\n",
       "      <th>0</th>\n",
       "      <td>2005-01-02</td>\n",
       "      <td>01:55</td>\n",
       "      <td>M</td>\n",
       "      <td>White</td>\n",
       "      <td>Speeding</td>\n",
       "      <td>Speeding</td>\n",
       "      <td>False</td>\n",
       "      <td>NaN</td>\n",
       "      <td>Citation</td>\n",
       "      <td>False</td>\n",
       "      <td>0-15 Min</td>\n",
       "      <td>False</td>\n",
       "      <td>2005-01-02 01:55</td>\n",
       "    </tr>\n",
       "    <tr>\n",
       "      <th>1</th>\n",
       "      <td>2005-01-18</td>\n",
       "      <td>08:15</td>\n",
       "      <td>M</td>\n",
       "      <td>White</td>\n",
       "      <td>Speeding</td>\n",
       "      <td>Speeding</td>\n",
       "      <td>False</td>\n",
       "      <td>NaN</td>\n",
       "      <td>Citation</td>\n",
       "      <td>False</td>\n",
       "      <td>0-15 Min</td>\n",
       "      <td>False</td>\n",
       "      <td>2005-01-18 08:15</td>\n",
       "    </tr>\n",
       "    <tr>\n",
       "      <th>2</th>\n",
       "      <td>2005-01-23</td>\n",
       "      <td>23:15</td>\n",
       "      <td>M</td>\n",
       "      <td>White</td>\n",
       "      <td>Speeding</td>\n",
       "      <td>Speeding</td>\n",
       "      <td>False</td>\n",
       "      <td>NaN</td>\n",
       "      <td>Citation</td>\n",
       "      <td>False</td>\n",
       "      <td>0-15 Min</td>\n",
       "      <td>False</td>\n",
       "      <td>2005-01-23 23:15</td>\n",
       "    </tr>\n",
       "    <tr>\n",
       "      <th>3</th>\n",
       "      <td>2005-02-20</td>\n",
       "      <td>17:15</td>\n",
       "      <td>M</td>\n",
       "      <td>White</td>\n",
       "      <td>Call for Service</td>\n",
       "      <td>Other</td>\n",
       "      <td>False</td>\n",
       "      <td>NaN</td>\n",
       "      <td>Arrest Driver</td>\n",
       "      <td>True</td>\n",
       "      <td>16-30 Min</td>\n",
       "      <td>False</td>\n",
       "      <td>2005-02-20 17:15</td>\n",
       "    </tr>\n",
       "    <tr>\n",
       "      <th>4</th>\n",
       "      <td>2005-03-14</td>\n",
       "      <td>10:00</td>\n",
       "      <td>F</td>\n",
       "      <td>White</td>\n",
       "      <td>Speeding</td>\n",
       "      <td>Speeding</td>\n",
       "      <td>False</td>\n",
       "      <td>NaN</td>\n",
       "      <td>Citation</td>\n",
       "      <td>False</td>\n",
       "      <td>0-15 Min</td>\n",
       "      <td>False</td>\n",
       "      <td>2005-03-14 10:00</td>\n",
       "    </tr>\n",
       "  </tbody>\n",
       "</table>\n",
       "</div>"
      ],
      "text/plain": [
       "    stop_date stop_time driver_gender driver_race     violation_raw violation  \\\n",
       "0  2005-01-02     01:55             M       White          Speeding  Speeding   \n",
       "1  2005-01-18     08:15             M       White          Speeding  Speeding   \n",
       "2  2005-01-23     23:15             M       White          Speeding  Speeding   \n",
       "3  2005-02-20     17:15             M       White  Call for Service     Other   \n",
       "4  2005-03-14     10:00             F       White          Speeding  Speeding   \n",
       "\n",
       "   search_conducted search_type   stop_outcome  is_arrested stop_duration  \\\n",
       "0             False         NaN       Citation        False      0-15 Min   \n",
       "1             False         NaN       Citation        False      0-15 Min   \n",
       "2             False         NaN       Citation        False      0-15 Min   \n",
       "3             False         NaN  Arrest Driver         True     16-30 Min   \n",
       "4             False         NaN       Citation        False      0-15 Min   \n",
       "\n",
       "   drugs_related_stop     stop_datetime  \n",
       "0               False  2005-01-02 01:55  \n",
       "1               False  2005-01-18 08:15  \n",
       "2               False  2005-01-23 23:15  \n",
       "3               False  2005-02-20 17:15  \n",
       "4               False  2005-03-14 10:00  "
      ]
     },
     "execution_count": 310,
     "metadata": {},
     "output_type": "execute_result"
    }
   ],
   "source": [
    "ri.head()"
   ]
  },
  {
   "cell_type": "code",
   "execution_count": 311,
   "metadata": {},
   "outputs": [
    {
     "data": {
      "text/plain": [
       "stop_date             object\n",
       "stop_time             object\n",
       "driver_gender         object\n",
       "driver_race           object\n",
       "violation_raw         object\n",
       "violation             object\n",
       "search_conducted        bool\n",
       "search_type           object\n",
       "stop_outcome          object\n",
       "is_arrested             bool\n",
       "stop_duration         object\n",
       "drugs_related_stop      bool\n",
       "stop_datetime         object\n",
       "dtype: object"
      ]
     },
     "execution_count": 311,
     "metadata": {},
     "output_type": "execute_result"
    }
   ],
   "source": [
    "ri.dtypes"
   ]
  },
  {
   "cell_type": "code",
   "execution_count": 312,
   "metadata": {},
   "outputs": [],
   "source": [
    "ri['stop_datetime'] =pd.to_datetime(ri['stop_datetime'])"
   ]
  },
  {
   "cell_type": "code",
   "execution_count": 313,
   "metadata": {},
   "outputs": [
    {
     "data": {
      "text/plain": [
       "stop_date                     object\n",
       "stop_time                     object\n",
       "driver_gender                 object\n",
       "driver_race                   object\n",
       "violation_raw                 object\n",
       "violation                     object\n",
       "search_conducted                bool\n",
       "search_type                   object\n",
       "stop_outcome                  object\n",
       "is_arrested                     bool\n",
       "stop_duration                 object\n",
       "drugs_related_stop              bool\n",
       "stop_datetime         datetime64[ns]\n",
       "dtype: object"
      ]
     },
     "execution_count": 313,
     "metadata": {},
     "output_type": "execute_result"
    }
   ],
   "source": [
    "ri.dtypes"
   ]
  },
  {
   "cell_type": "code",
   "execution_count": 314,
   "metadata": {},
   "outputs": [],
   "source": [
    "# Set 'stop_datetime' as the index\n",
    "ri.set_index(\"stop_datetime\", inplace=True)\n",
    "\n"
   ]
  },
  {
   "cell_type": "code",
   "execution_count": 315,
   "metadata": {},
   "outputs": [
    {
     "data": {
      "text/plain": [
       "DatetimeIndex(['2005-01-02 01:55:00', '2005-01-18 08:15:00',\n",
       "               '2005-01-23 23:15:00', '2005-02-20 17:15:00',\n",
       "               '2005-03-14 10:00:00', '2005-03-23 09:45:00',\n",
       "               '2005-04-01 17:30:00', '2005-06-06 13:20:00',\n",
       "               '2005-07-13 10:15:00', '2005-07-13 15:45:00',\n",
       "               ...\n",
       "               '2015-12-31 16:38:00', '2015-12-31 19:44:00',\n",
       "               '2015-12-31 19:55:00', '2015-12-31 20:20:00',\n",
       "               '2015-12-31 20:25:00', '2015-12-31 20:27:00',\n",
       "               '2015-12-31 20:35:00', '2015-12-31 20:45:00',\n",
       "               '2015-12-31 21:42:00', '2015-12-31 22:46:00'],\n",
       "              dtype='datetime64[ns]', name='stop_datetime', length=86406, freq=None)"
      ]
     },
     "execution_count": 315,
     "metadata": {},
     "output_type": "execute_result"
    }
   ],
   "source": [
    "# Examine the index\n",
    "ri.index\n"
   ]
  },
  {
   "cell_type": "code",
   "execution_count": 316,
   "metadata": {},
   "outputs": [
    {
     "data": {
      "text/plain": [
       "Index(['stop_date', 'stop_time', 'driver_gender', 'driver_race',\n",
       "       'violation_raw', 'violation', 'search_conducted', 'search_type',\n",
       "       'stop_outcome', 'is_arrested', 'stop_duration', 'drugs_related_stop'],\n",
       "      dtype='object')"
      ]
     },
     "execution_count": 316,
     "metadata": {},
     "output_type": "execute_result"
    }
   ],
   "source": [
    "\n",
    "# Examine the columns\n",
    "ri.columns"
   ]
  },
  {
   "cell_type": "code",
   "execution_count": 317,
   "metadata": {},
   "outputs": [
    {
     "data": {
      "text/plain": [
       "Speeding               48461\n",
       "Moving violation       16224\n",
       "Equipment              11020\n",
       "Other                   4317\n",
       "Registration/plates     3432\n",
       "Seat belt               2952\n",
       "Name: violation, dtype: int64"
      ]
     },
     "execution_count": 317,
     "metadata": {},
     "output_type": "execute_result"
    }
   ],
   "source": [
    "# Count the unique values in 'violation'\n",
    "ri.violation.value_counts()\n"
   ]
  },
  {
   "cell_type": "code",
   "execution_count": 318,
   "metadata": {},
   "outputs": [
    {
     "data": {
      "text/plain": [
       "Speeding               0.560852\n",
       "Moving violation       0.187765\n",
       "Equipment              0.127537\n",
       "Other                  0.049962\n",
       "Registration/plates    0.039719\n",
       "Seat belt              0.034164\n",
       "Name: violation, dtype: float64"
      ]
     },
     "execution_count": 318,
     "metadata": {},
     "output_type": "execute_result"
    }
   ],
   "source": [
    "\n",
    "# Express the counts as proportions\n",
    "ri.violation.value_counts(normalize=True)"
   ]
  },
  {
   "cell_type": "code",
   "execution_count": 319,
   "metadata": {},
   "outputs": [
    {
     "data": {
      "text/plain": [
       "array(['M', 'F'], dtype=object)"
      ]
     },
     "execution_count": 319,
     "metadata": {},
     "output_type": "execute_result"
    }
   ],
   "source": [
    "ri.driver_gender.unique()"
   ]
  },
  {
   "cell_type": "code",
   "execution_count": 320,
   "metadata": {},
   "outputs": [],
   "source": [
    "# Create a DataFrame of female drivers\n",
    "female = ri[ri.driver_gender==\"F\"]"
   ]
  },
  {
   "cell_type": "code",
   "execution_count": 321,
   "metadata": {},
   "outputs": [],
   "source": [
    "# Create a DataFrame of male drivers\n",
    "male = ri[ri.driver_gender==\"M\"]\n"
   ]
  },
  {
   "cell_type": "code",
   "execution_count": 322,
   "metadata": {},
   "outputs": [
    {
     "name": "stdout",
     "output_type": "stream",
     "text": [
      "Speeding               0.658500\n",
      "Moving violation       0.136277\n",
      "Equipment              0.105780\n",
      "Registration/plates    0.043086\n",
      "Other                  0.029348\n",
      "Seat belt              0.027009\n",
      "Name: violation, dtype: float64\n"
     ]
    }
   ],
   "source": [
    "# Compute the violations by female drivers (as proportions)\n",
    "print(female.violation.value_counts(normalize=True))"
   ]
  },
  {
   "cell_type": "code",
   "execution_count": 323,
   "metadata": {},
   "outputs": [
    {
     "name": "stdout",
     "output_type": "stream",
     "text": [
      "Speeding               0.524350\n",
      "Moving violation       0.207012\n",
      "Equipment              0.135671\n",
      "Other                  0.057668\n",
      "Registration/plates    0.038461\n",
      "Seat belt              0.036839\n",
      "Name: violation, dtype: float64\n"
     ]
    }
   ],
   "source": [
    "# Compute the violations by male drivers (as proportions)\n",
    "print(male.violation.value_counts(normalize=True))"
   ]
  },
  {
   "cell_type": "code",
   "execution_count": 324,
   "metadata": {},
   "outputs": [],
   "source": [
    "# Create a DataFrame of female drivers stopped for speeding\n",
    "female_and_speeding = ri[(ri.driver_gender==\"F\") & (ri.violation==\"Speeding\")]\n",
    "\n",
    "# Create a DataFrame of male drivers stopped for speeding\n",
    "male_and_speeding = ri[(ri.driver_gender==\"M\") & (ri.violation==\"Speeding\")]\n"
   ]
  },
  {
   "cell_type": "code",
   "execution_count": 325,
   "metadata": {},
   "outputs": [
    {
     "name": "stdout",
     "output_type": "stream",
     "text": [
      "Citation            0.952590\n",
      "Warning             0.039917\n",
      "Arrest Driver       0.005361\n",
      "N/D                 0.000840\n",
      "Arrest Passenger    0.000840\n",
      "No Action           0.000452\n",
      "Name: stop_outcome, dtype: float64\n"
     ]
    }
   ],
   "source": [
    "\n",
    "# Compute the stop outcomes for female drivers (as proportions)\n",
    "print(female_and_speeding.stop_outcome.value_counts(normalize=True))\n"
   ]
  },
  {
   "cell_type": "code",
   "execution_count": 326,
   "metadata": {},
   "outputs": [
    {
     "name": "stdout",
     "output_type": "stream",
     "text": [
      "Citation            0.946208\n",
      "Warning             0.035265\n",
      "Arrest Driver       0.015161\n",
      "Arrest Passenger    0.001243\n",
      "No Action           0.001061\n",
      "N/D                 0.001061\n",
      "Name: stop_outcome, dtype: float64\n"
     ]
    }
   ],
   "source": [
    "\n",
    "# Compute the stop outcomes for male drivers (as proportions)\n",
    "print(male_and_speeding.stop_outcome.value_counts(normalize=True))"
   ]
  },
  {
   "cell_type": "code",
   "execution_count": 327,
   "metadata": {},
   "outputs": [
    {
     "name": "stdout",
     "output_type": "stream",
     "text": [
      "bool\n",
      "False    0.963012\n",
      "True     0.036988\n",
      "Name: search_conducted, dtype: float64\n",
      "0.036988172117677014\n"
     ]
    }
   ],
   "source": [
    "# Check the data type of 'search_conducted'\n",
    "print(ri.search_conducted.dtype)\n",
    "\n",
    "# Calculate the search rate by counting the values\n",
    "print(ri.search_conducted.value_counts(normalize=True))\n",
    "\n",
    "# Calculate the search rate by taking the mean\n",
    "print(ri.search_conducted.mean())"
   ]
  },
  {
   "cell_type": "code",
   "execution_count": 328,
   "metadata": {},
   "outputs": [
    {
     "name": "stdout",
     "output_type": "stream",
     "text": [
      "0.02003317596018885\n"
     ]
    }
   ],
   "source": [
    "# Calculate the search rate for female drivers\n",
    "print(ri[ri[\"driver_gender\"]==\"F\"].search_conducted.mean())"
   ]
  },
  {
   "cell_type": "code",
   "execution_count": 329,
   "metadata": {},
   "outputs": [
    {
     "name": "stdout",
     "output_type": "stream",
     "text": [
      "0.04332617855155418\n"
     ]
    }
   ],
   "source": [
    "# Calculate the search rate for male drivers\n",
    "print(ri[ri[\"driver_gender\"]==\"M\"].search_conducted.mean())"
   ]
  },
  {
   "cell_type": "code",
   "execution_count": 330,
   "metadata": {},
   "outputs": [
    {
     "name": "stdout",
     "output_type": "stream",
     "text": [
      "driver_gender\n",
      "F    0.020033\n",
      "M    0.043326\n",
      "Name: search_conducted, dtype: float64\n"
     ]
    }
   ],
   "source": [
    "# Calculate the search rate for both groups simultaneously\n",
    "print(ri.groupby(\"driver_gender\").search_conducted.mean())"
   ]
  },
  {
   "cell_type": "code",
   "execution_count": 331,
   "metadata": {},
   "outputs": [
    {
     "name": "stdout",
     "output_type": "stream",
     "text": [
      "driver_gender  violation          \n",
      "F              Equipment              0.042622\n",
      "               Moving violation       0.036205\n",
      "               Other                  0.056522\n",
      "               Registration/plates    0.066140\n",
      "               Seat belt              0.012598\n",
      "               Speeding               0.008720\n",
      "M              Equipment              0.070081\n",
      "               Moving violation       0.059831\n",
      "               Other                  0.047146\n",
      "               Registration/plates    0.110376\n",
      "               Seat belt              0.037980\n",
      "               Speeding               0.024925\n",
      "Name: search_conducted, dtype: float64\n"
     ]
    }
   ],
   "source": [
    "# Calculate the search rate for each combination of gender and violation\n",
    "print(ri.groupby([\"driver_gender\",\"violation\"]).search_conducted.mean())"
   ]
  },
  {
   "cell_type": "code",
   "execution_count": 332,
   "metadata": {},
   "outputs": [
    {
     "name": "stdout",
     "output_type": "stream",
     "text": [
      "violation            driver_gender\n",
      "Equipment            F                0.042622\n",
      "                     M                0.070081\n",
      "Moving violation     F                0.036205\n",
      "                     M                0.059831\n",
      "Other                F                0.056522\n",
      "                     M                0.047146\n",
      "Registration/plates  F                0.066140\n",
      "                     M                0.110376\n",
      "Seat belt            F                0.012598\n",
      "                     M                0.037980\n",
      "Speeding             F                0.008720\n",
      "                     M                0.024925\n",
      "Name: search_conducted, dtype: float64\n"
     ]
    }
   ],
   "source": [
    "# Reverse the ordering to group by violation before gender\n",
    "print(ri.groupby([\"violation\",\"driver_gender\"]).search_conducted.mean())"
   ]
  },
  {
   "cell_type": "code",
   "execution_count": 333,
   "metadata": {},
   "outputs": [
    {
     "name": "stdout",
     "output_type": "stream",
     "text": [
      "<class 'pandas.core.frame.DataFrame'>\n",
      "DatetimeIndex: 86406 entries, 2005-01-02 01:55:00 to 2015-12-31 22:46:00\n",
      "Data columns (total 12 columns):\n",
      " #   Column              Non-Null Count  Dtype \n",
      "---  ------              --------------  ----- \n",
      " 0   stop_date           86406 non-null  object\n",
      " 1   stop_time           86406 non-null  object\n",
      " 2   driver_gender       86406 non-null  object\n",
      " 3   driver_race         86406 non-null  object\n",
      " 4   violation_raw       86406 non-null  object\n",
      " 5   violation           86406 non-null  object\n",
      " 6   search_conducted    86406 non-null  bool  \n",
      " 7   search_type         3196 non-null   object\n",
      " 8   stop_outcome        86406 non-null  object\n",
      " 9   is_arrested         86406 non-null  bool  \n",
      " 10  stop_duration       86406 non-null  object\n",
      " 11  drugs_related_stop  86406 non-null  bool  \n",
      "dtypes: bool(3), object(9)\n",
      "memory usage: 6.8+ MB\n"
     ]
    }
   ],
   "source": [
    "ri.info()"
   ]
  },
  {
   "cell_type": "code",
   "execution_count": 334,
   "metadata": {},
   "outputs": [
    {
     "data": {
      "text/plain": [
       "NaN                                                         83210\n",
       "Incident to Arrest                                           1219\n",
       "Probable Cause                                                891\n",
       "Inventory                                                     220\n",
       "Reasonable Suspicion                                          197\n",
       "Protective Frisk                                              161\n",
       "Incident to Arrest,Inventory                                  129\n",
       "Incident to Arrest,Probable Cause                             106\n",
       "Probable Cause,Reasonable Suspicion                            75\n",
       "Incident to Arrest,Inventory,Probable Cause                    34\n",
       "Probable Cause,Protective Frisk                                33\n",
       "Incident to Arrest,Protective Frisk                            33\n",
       "Inventory,Probable Cause                                       22\n",
       "Incident to Arrest,Reasonable Suspicion                        13\n",
       "Inventory,Protective Frisk                                     11\n",
       "Incident to Arrest,Inventory,Protective Frisk                  11\n",
       "Protective Frisk,Reasonable Suspicion                          11\n",
       "Incident to Arrest,Probable Cause,Protective Frisk             10\n",
       "Incident to Arrest,Probable Cause,Reasonable Suspicion          6\n",
       "Inventory,Reasonable Suspicion                                  4\n",
       "Incident to Arrest,Inventory,Reasonable Suspicion               4\n",
       "Inventory,Probable Cause,Protective Frisk                       2\n",
       "Inventory,Probable Cause,Reasonable Suspicion                   2\n",
       "Probable Cause,Protective Frisk,Reasonable Suspicion            1\n",
       "Incident to Arrest,Protective Frisk,Reasonable Suspicion        1\n",
       "Name: search_type, dtype: int64"
      ]
     },
     "execution_count": 334,
     "metadata": {},
     "output_type": "execute_result"
    }
   ],
   "source": [
    "ri.search_type.value_counts(dropna=False)"
   ]
  },
  {
   "cell_type": "code",
   "execution_count": 335,
   "metadata": {},
   "outputs": [
    {
     "data": {
      "text/plain": [
       "array([nan, 'Incident to Arrest,Protective Frisk', 'Probable Cause',\n",
       "       'Incident to Arrest', 'Probable Cause,Reasonable Suspicion',\n",
       "       'Incident to Arrest,Inventory,Probable Cause',\n",
       "       'Incident to Arrest,Inventory',\n",
       "       'Incident to Arrest,Probable Cause', 'Protective Frisk',\n",
       "       'Reasonable Suspicion', 'Inventory', 'Inventory,Protective Frisk',\n",
       "       'Incident to Arrest,Reasonable Suspicion',\n",
       "       'Incident to Arrest,Probable Cause,Protective Frisk',\n",
       "       'Probable Cause,Protective Frisk',\n",
       "       'Incident to Arrest,Inventory,Protective Frisk',\n",
       "       'Protective Frisk,Reasonable Suspicion',\n",
       "       'Incident to Arrest,Inventory,Reasonable Suspicion',\n",
       "       'Inventory,Probable Cause',\n",
       "       'Incident to Arrest,Protective Frisk,Reasonable Suspicion',\n",
       "       'Inventory,Probable Cause,Protective Frisk',\n",
       "       'Inventory,Reasonable Suspicion',\n",
       "       'Incident to Arrest,Probable Cause,Reasonable Suspicion',\n",
       "       'Inventory,Probable Cause,Reasonable Suspicion',\n",
       "       'Probable Cause,Protective Frisk,Reasonable Suspicion'],\n",
       "      dtype=object)"
      ]
     },
     "execution_count": 335,
     "metadata": {},
     "output_type": "execute_result"
    }
   ],
   "source": [
    "ri.search_type.unique()"
   ]
  },
  {
   "cell_type": "code",
   "execution_count": 336,
   "metadata": {},
   "outputs": [],
   "source": [
    "ri[\"Inventory\"]=ri.search_type.str.contains(\"Inventory\",na=False)"
   ]
  },
  {
   "cell_type": "code",
   "execution_count": 337,
   "metadata": {},
   "outputs": [],
   "source": [
    "searched=ri[ri.search_conducted==True]"
   ]
  },
  {
   "cell_type": "code",
   "execution_count": 338,
   "metadata": {},
   "outputs": [
    {
     "data": {
      "text/plain": [
       "0.13735919899874843"
      ]
     },
     "execution_count": 338,
     "metadata": {},
     "output_type": "execute_result"
    }
   ],
   "source": [
    "searched.Inventory.mean()"
   ]
  },
  {
   "cell_type": "code",
   "execution_count": 339,
   "metadata": {},
   "outputs": [
    {
     "data": {
      "text/plain": [
       "Incident to Arrest                                          1219\n",
       "Probable Cause                                               891\n",
       "Inventory                                                    220\n",
       "Reasonable Suspicion                                         197\n",
       "Protective Frisk                                             161\n",
       "Incident to Arrest,Inventory                                 129\n",
       "Incident to Arrest,Probable Cause                            106\n",
       "Probable Cause,Reasonable Suspicion                           75\n",
       "Incident to Arrest,Inventory,Probable Cause                   34\n",
       "Incident to Arrest,Protective Frisk                           33\n",
       "Probable Cause,Protective Frisk                               33\n",
       "Inventory,Probable Cause                                      22\n",
       "Incident to Arrest,Reasonable Suspicion                       13\n",
       "Inventory,Protective Frisk                                    11\n",
       "Protective Frisk,Reasonable Suspicion                         11\n",
       "Incident to Arrest,Inventory,Protective Frisk                 11\n",
       "Incident to Arrest,Probable Cause,Protective Frisk            10\n",
       "Incident to Arrest,Probable Cause,Reasonable Suspicion         6\n",
       "Incident to Arrest,Inventory,Reasonable Suspicion              4\n",
       "Inventory,Reasonable Suspicion                                 4\n",
       "Inventory,Probable Cause,Reasonable Suspicion                  2\n",
       "Inventory,Probable Cause,Protective Frisk                      2\n",
       "Probable Cause,Protective Frisk,Reasonable Suspicion           1\n",
       "Incident to Arrest,Protective Frisk,Reasonable Suspicion       1\n",
       "Name: search_type, dtype: int64"
      ]
     },
     "execution_count": 339,
     "metadata": {},
     "output_type": "execute_result"
    }
   ],
   "source": [
    "# Count the 'search_type' values\n",
    "ri[\"search_type\"].value_counts()"
   ]
  },
  {
   "cell_type": "code",
   "execution_count": 340,
   "metadata": {},
   "outputs": [
    {
     "data": {
      "text/html": [
       "<div>\n",
       "<style scoped>\n",
       "    .dataframe tbody tr th:only-of-type {\n",
       "        vertical-align: middle;\n",
       "    }\n",
       "\n",
       "    .dataframe tbody tr th {\n",
       "        vertical-align: top;\n",
       "    }\n",
       "\n",
       "    .dataframe thead th {\n",
       "        text-align: right;\n",
       "    }\n",
       "</style>\n",
       "<table border=\"1\" class=\"dataframe\">\n",
       "  <thead>\n",
       "    <tr style=\"text-align: right;\">\n",
       "      <th></th>\n",
       "      <th>stop_date</th>\n",
       "      <th>stop_time</th>\n",
       "      <th>driver_gender</th>\n",
       "      <th>driver_race</th>\n",
       "      <th>violation_raw</th>\n",
       "      <th>violation</th>\n",
       "      <th>search_conducted</th>\n",
       "      <th>search_type</th>\n",
       "      <th>stop_outcome</th>\n",
       "      <th>is_arrested</th>\n",
       "      <th>stop_duration</th>\n",
       "      <th>drugs_related_stop</th>\n",
       "      <th>Inventory</th>\n",
       "    </tr>\n",
       "    <tr>\n",
       "      <th>stop_datetime</th>\n",
       "      <th></th>\n",
       "      <th></th>\n",
       "      <th></th>\n",
       "      <th></th>\n",
       "      <th></th>\n",
       "      <th></th>\n",
       "      <th></th>\n",
       "      <th></th>\n",
       "      <th></th>\n",
       "      <th></th>\n",
       "      <th></th>\n",
       "      <th></th>\n",
       "      <th></th>\n",
       "    </tr>\n",
       "  </thead>\n",
       "  <tbody>\n",
       "    <tr>\n",
       "      <th>2005-01-02 01:55:00</th>\n",
       "      <td>2005-01-02</td>\n",
       "      <td>01:55</td>\n",
       "      <td>M</td>\n",
       "      <td>White</td>\n",
       "      <td>Speeding</td>\n",
       "      <td>Speeding</td>\n",
       "      <td>False</td>\n",
       "      <td>NaN</td>\n",
       "      <td>Citation</td>\n",
       "      <td>False</td>\n",
       "      <td>0-15 Min</td>\n",
       "      <td>False</td>\n",
       "      <td>False</td>\n",
       "    </tr>\n",
       "    <tr>\n",
       "      <th>2005-01-18 08:15:00</th>\n",
       "      <td>2005-01-18</td>\n",
       "      <td>08:15</td>\n",
       "      <td>M</td>\n",
       "      <td>White</td>\n",
       "      <td>Speeding</td>\n",
       "      <td>Speeding</td>\n",
       "      <td>False</td>\n",
       "      <td>NaN</td>\n",
       "      <td>Citation</td>\n",
       "      <td>False</td>\n",
       "      <td>0-15 Min</td>\n",
       "      <td>False</td>\n",
       "      <td>False</td>\n",
       "    </tr>\n",
       "    <tr>\n",
       "      <th>2005-01-23 23:15:00</th>\n",
       "      <td>2005-01-23</td>\n",
       "      <td>23:15</td>\n",
       "      <td>M</td>\n",
       "      <td>White</td>\n",
       "      <td>Speeding</td>\n",
       "      <td>Speeding</td>\n",
       "      <td>False</td>\n",
       "      <td>NaN</td>\n",
       "      <td>Citation</td>\n",
       "      <td>False</td>\n",
       "      <td>0-15 Min</td>\n",
       "      <td>False</td>\n",
       "      <td>False</td>\n",
       "    </tr>\n",
       "    <tr>\n",
       "      <th>2005-02-20 17:15:00</th>\n",
       "      <td>2005-02-20</td>\n",
       "      <td>17:15</td>\n",
       "      <td>M</td>\n",
       "      <td>White</td>\n",
       "      <td>Call for Service</td>\n",
       "      <td>Other</td>\n",
       "      <td>False</td>\n",
       "      <td>NaN</td>\n",
       "      <td>Arrest Driver</td>\n",
       "      <td>True</td>\n",
       "      <td>16-30 Min</td>\n",
       "      <td>False</td>\n",
       "      <td>False</td>\n",
       "    </tr>\n",
       "    <tr>\n",
       "      <th>2005-03-14 10:00:00</th>\n",
       "      <td>2005-03-14</td>\n",
       "      <td>10:00</td>\n",
       "      <td>F</td>\n",
       "      <td>White</td>\n",
       "      <td>Speeding</td>\n",
       "      <td>Speeding</td>\n",
       "      <td>False</td>\n",
       "      <td>NaN</td>\n",
       "      <td>Citation</td>\n",
       "      <td>False</td>\n",
       "      <td>0-15 Min</td>\n",
       "      <td>False</td>\n",
       "      <td>False</td>\n",
       "    </tr>\n",
       "  </tbody>\n",
       "</table>\n",
       "</div>"
      ],
      "text/plain": [
       "                      stop_date stop_time driver_gender driver_race  \\\n",
       "stop_datetime                                                         \n",
       "2005-01-02 01:55:00  2005-01-02     01:55             M       White   \n",
       "2005-01-18 08:15:00  2005-01-18     08:15             M       White   \n",
       "2005-01-23 23:15:00  2005-01-23     23:15             M       White   \n",
       "2005-02-20 17:15:00  2005-02-20     17:15             M       White   \n",
       "2005-03-14 10:00:00  2005-03-14     10:00             F       White   \n",
       "\n",
       "                        violation_raw violation  search_conducted search_type  \\\n",
       "stop_datetime                                                                   \n",
       "2005-01-02 01:55:00          Speeding  Speeding             False         NaN   \n",
       "2005-01-18 08:15:00          Speeding  Speeding             False         NaN   \n",
       "2005-01-23 23:15:00          Speeding  Speeding             False         NaN   \n",
       "2005-02-20 17:15:00  Call for Service     Other             False         NaN   \n",
       "2005-03-14 10:00:00          Speeding  Speeding             False         NaN   \n",
       "\n",
       "                      stop_outcome  is_arrested stop_duration  \\\n",
       "stop_datetime                                                   \n",
       "2005-01-02 01:55:00       Citation        False      0-15 Min   \n",
       "2005-01-18 08:15:00       Citation        False      0-15 Min   \n",
       "2005-01-23 23:15:00       Citation        False      0-15 Min   \n",
       "2005-02-20 17:15:00  Arrest Driver         True     16-30 Min   \n",
       "2005-03-14 10:00:00       Citation        False      0-15 Min   \n",
       "\n",
       "                     drugs_related_stop  Inventory  \n",
       "stop_datetime                                       \n",
       "2005-01-02 01:55:00               False      False  \n",
       "2005-01-18 08:15:00               False      False  \n",
       "2005-01-23 23:15:00               False      False  \n",
       "2005-02-20 17:15:00               False      False  \n",
       "2005-03-14 10:00:00               False      False  "
      ]
     },
     "execution_count": 340,
     "metadata": {},
     "output_type": "execute_result"
    }
   ],
   "source": [
    "ri.head()"
   ]
  },
  {
   "cell_type": "code",
   "execution_count": 341,
   "metadata": {},
   "outputs": [
    {
     "name": "stdout",
     "output_type": "stream",
     "text": [
      "Incident to Arrest                                          1219\n",
      "Probable Cause                                               891\n",
      "Inventory                                                    220\n",
      "Reasonable Suspicion                                         197\n",
      "Protective Frisk                                             161\n",
      "Incident to Arrest,Inventory                                 129\n",
      "Incident to Arrest,Probable Cause                            106\n",
      "Probable Cause,Reasonable Suspicion                           75\n",
      "Incident to Arrest,Inventory,Probable Cause                   34\n",
      "Incident to Arrest,Protective Frisk                           33\n",
      "Probable Cause,Protective Frisk                               33\n",
      "Inventory,Probable Cause                                      22\n",
      "Incident to Arrest,Reasonable Suspicion                       13\n",
      "Inventory,Protective Frisk                                    11\n",
      "Protective Frisk,Reasonable Suspicion                         11\n",
      "Incident to Arrest,Inventory,Protective Frisk                 11\n",
      "Incident to Arrest,Probable Cause,Protective Frisk            10\n",
      "Incident to Arrest,Probable Cause,Reasonable Suspicion         6\n",
      "Incident to Arrest,Inventory,Reasonable Suspicion              4\n",
      "Inventory,Reasonable Suspicion                                 4\n",
      "Inventory,Probable Cause,Reasonable Suspicion                  2\n",
      "Inventory,Probable Cause,Protective Frisk                      2\n",
      "Probable Cause,Protective Frisk,Reasonable Suspicion           1\n",
      "Incident to Arrest,Protective Frisk,Reasonable Suspicion       1\n",
      "Name: search_type, dtype: int64\n"
     ]
    }
   ],
   "source": [
    "# Count the 'search_type' values\n",
    "print(ri[\"search_type\"].value_counts())\n"
   ]
  },
  {
   "cell_type": "code",
   "execution_count": 342,
   "metadata": {},
   "outputs": [
    {
     "name": "stdout",
     "output_type": "stream",
     "text": [
      "bool\n",
      "274\n"
     ]
    }
   ],
   "source": [
    "\n",
    "# Check if 'search_type' contains the string 'Protective Frisk'\n",
    "ri['frisk'] = ri.search_type.str.contains('Protective Frisk', na=False)\n",
    "\n",
    "# Check the data type of 'frisk'\n",
    "print(ri.frisk.dtype)\n",
    "\n",
    "# Take the sum of 'frisk'\n",
    "print(ri.frisk.sum())"
   ]
  },
  {
   "cell_type": "code",
   "execution_count": 343,
   "metadata": {},
   "outputs": [
    {
     "name": "stdout",
     "output_type": "stream",
     "text": [
      "0.08573216520650813\n",
      "driver_gender\n",
      "F    0.061571\n",
      "M    0.089908\n",
      "Name: frisk, dtype: float64\n"
     ]
    }
   ],
   "source": [
    "# Create a DataFrame of stops in which a search was conducted\n",
    "searched = ri[ri.search_conducted == True]\n",
    "\n",
    "# Calculate the overall frisk rate by taking the mean of 'frisk'\n",
    "print(searched.frisk.mean())\n",
    "\n",
    "# Calculate the frisk rate for each gender\n",
    "print(searched.groupby(\"driver_gender\")[\"frisk\"].mean())"
   ]
  },
  {
   "cell_type": "code",
   "execution_count": 344,
   "metadata": {},
   "outputs": [
    {
     "name": "stdout",
     "output_type": "stream",
     "text": [
      "0.03389810892762077\n"
     ]
    }
   ],
   "source": [
    "# Calculate the overall arrest rate\n",
    "print(ri.is_arrested.mean())\n"
   ]
  },
  {
   "cell_type": "code",
   "execution_count": 345,
   "metadata": {},
   "outputs": [
    {
     "name": "stdout",
     "output_type": "stream",
     "text": [
      "stop_datetime\n",
      "0     0.047393\n",
      "1     0.061428\n",
      "2     0.062914\n",
      "3     0.053221\n",
      "4     0.074074\n",
      "5     0.031915\n",
      "6     0.014045\n",
      "7     0.013498\n",
      "8     0.020449\n",
      "9     0.024703\n",
      "10    0.025278\n",
      "11    0.027037\n",
      "12    0.032999\n",
      "13    0.030100\n",
      "14    0.032716\n",
      "15    0.032307\n",
      "16    0.030765\n",
      "17    0.032757\n",
      "18    0.043988\n",
      "19    0.031506\n",
      "20    0.041048\n",
      "21    0.053795\n",
      "22    0.043397\n",
      "23    0.042825\n",
      "Name: is_arrested, dtype: float64\n"
     ]
    }
   ],
   "source": [
    "\n",
    "# Calculate the hourly arrest rate\n",
    "print(ri.groupby(ri.index.hour)[\"is_arrested\"].mean())\n"
   ]
  },
  {
   "cell_type": "code",
   "execution_count": 346,
   "metadata": {},
   "outputs": [],
   "source": [
    "\n",
    "# Save the hourly arrest rate\n",
    "hourly_arrest_rate = ri.groupby(ri.index.hour)[\"is_arrested\"].mean()"
   ]
  },
  {
   "cell_type": "code",
   "execution_count": 347,
   "metadata": {},
   "outputs": [
    {
     "data": {
      "image/png": "[encoded data removed]",
      "text/plain": [
       "<Figure size 432x288 with 1 Axes>"
      ]
     },
     "metadata": {
      "needs_background": "light"
     },
     "output_type": "display_data"
    }
   ],
   "source": [
    "# Import matplotlib.pyplot as plt\n",
    "import matplotlib.pyplot as plt\n",
    "\n",
    "# Create a line plot of 'hourly_arrest_rate'\n",
    "hourly_arrest_rate.plot()\n",
    "\n",
    "# Add the xlabel, ylabel, and title\n",
    "plt.xlabel('Hour')\n",
    "plt.ylabel('Arrest Rate')\n",
    "plt.title('Arrest Rate by Time of Day')\n",
    "\n",
    "# Display the plot\n",
    "plt.show()"
   ]
  },
  {
   "cell_type": "code",
   "execution_count": 348,
   "metadata": {},
   "outputs": [
    {
     "data": {
      "text/plain": [
       "array([False,  True])"
      ]
     },
     "execution_count": 348,
     "metadata": {},
     "output_type": "execute_result"
    }
   ],
   "source": [
    "ri.drugs_related_stop.unique()"
   ]
  },
  {
   "cell_type": "code",
   "execution_count": 349,
   "metadata": {},
   "outputs": [
    {
     "name": "stdout",
     "output_type": "stream",
     "text": [
      "stop_datetime\n",
      "2005-12-31    0.007186\n",
      "2006-12-31    0.005818\n",
      "2007-12-31    0.007524\n",
      "2008-12-31    0.006993\n",
      "2009-12-31    0.011607\n",
      "2010-12-31    0.008721\n",
      "2011-12-31    0.008449\n",
      "2012-12-31    0.010870\n",
      "2013-12-31    0.011858\n",
      "2014-12-31    0.013335\n",
      "2015-12-31    0.010448\n",
      "Freq: A-DEC, Name: drugs_related_stop, dtype: float64\n"
     ]
    }
   ],
   "source": [
    "# Calculate the annual rate of drug-related stops\n",
    "print(ri.drugs_related_stop.resample(\"Y\").mean())"
   ]
  },
  {
   "cell_type": "code",
   "execution_count": 350,
   "metadata": {},
   "outputs": [],
   "source": [
    "# Save the annual rate of drug-related stops\n",
    "annual_drug_rate = ri.drugs_related_stop.resample(\"A\").mean()\n"
   ]
  },
  {
   "cell_type": "code",
   "execution_count": 351,
   "metadata": {},
   "outputs": [
    {
     "data": {
      "image/png": "[encoded data removed]",
      "text/plain": [
       "<Figure size 432x288 with 1 Axes>"
      ]
     },
     "metadata": {
      "needs_background": "light"
     },
     "output_type": "display_data"
    }
   ],
   "source": [
    "# Create a line plot of 'annual_drug_rate'\n",
    "annual_drug_rate.plot()\n",
    "\n",
    "# Display the plot\n",
    "plt.show()"
   ]
  },
  {
   "cell_type": "code",
   "execution_count": 352,
   "metadata": {},
   "outputs": [],
   "source": [
    "# Calculate and save the annual search rate\n",
    "annual_search_rate = ri.search_conducted.resample(\"A\").mean()\n",
    "\n"
   ]
  },
  {
   "cell_type": "code",
   "execution_count": 353,
   "metadata": {},
   "outputs": [],
   "source": [
    "# Concatenate 'annual_drug_rate' and 'annual_search_rate'\n",
    "annual = pd.concat([annual_drug_rate,annual_search_rate], axis=1)\n"
   ]
  },
  {
   "cell_type": "code",
   "execution_count": 354,
   "metadata": {},
   "outputs": [
    {
     "data": {
      "text/html": [
       "<div>\n",
       "<style scoped>\n",
       "    .dataframe tbody tr th:only-of-type {\n",
       "        vertical-align: middle;\n",
       "    }\n",
       "\n",
       "    .dataframe tbody tr th {\n",
       "        vertical-align: top;\n",
       "    }\n",
       "\n",
       "    .dataframe thead th {\n",
       "        text-align: right;\n",
       "    }\n",
       "</style>\n",
       "<table border=\"1\" class=\"dataframe\">\n",
       "  <thead>\n",
       "    <tr style=\"text-align: right;\">\n",
       "      <th></th>\n",
       "      <th>drugs_related_stop</th>\n",
       "      <th>search_conducted</th>\n",
       "    </tr>\n",
       "    <tr>\n",
       "      <th>stop_datetime</th>\n",
       "      <th></th>\n",
       "      <th></th>\n",
       "    </tr>\n",
       "  </thead>\n",
       "  <tbody>\n",
       "    <tr>\n",
       "      <th>2005-12-31</th>\n",
       "      <td>0.007186</td>\n",
       "      <td>0.051098</td>\n",
       "    </tr>\n",
       "    <tr>\n",
       "      <th>2006-12-31</th>\n",
       "      <td>0.005818</td>\n",
       "      <td>0.040134</td>\n",
       "    </tr>\n",
       "    <tr>\n",
       "      <th>2007-12-31</th>\n",
       "      <td>0.007524</td>\n",
       "      <td>0.040876</td>\n",
       "    </tr>\n",
       "    <tr>\n",
       "      <th>2008-12-31</th>\n",
       "      <td>0.006993</td>\n",
       "      <td>0.036069</td>\n",
       "    </tr>\n",
       "    <tr>\n",
       "      <th>2009-12-31</th>\n",
       "      <td>0.011607</td>\n",
       "      <td>0.052646</td>\n",
       "    </tr>\n",
       "    <tr>\n",
       "      <th>2010-12-31</th>\n",
       "      <td>0.008721</td>\n",
       "      <td>0.041458</td>\n",
       "    </tr>\n",
       "    <tr>\n",
       "      <th>2011-12-31</th>\n",
       "      <td>0.008449</td>\n",
       "      <td>0.036436</td>\n",
       "    </tr>\n",
       "    <tr>\n",
       "      <th>2012-12-31</th>\n",
       "      <td>0.010870</td>\n",
       "      <td>0.034052</td>\n",
       "    </tr>\n",
       "    <tr>\n",
       "      <th>2013-12-31</th>\n",
       "      <td>0.011858</td>\n",
       "      <td>0.027624</td>\n",
       "    </tr>\n",
       "    <tr>\n",
       "      <th>2014-12-31</th>\n",
       "      <td>0.013335</td>\n",
       "      <td>0.029834</td>\n",
       "    </tr>\n",
       "    <tr>\n",
       "      <th>2015-12-31</th>\n",
       "      <td>0.010448</td>\n",
       "      <td>0.028308</td>\n",
       "    </tr>\n",
       "  </tbody>\n",
       "</table>\n",
       "</div>"
      ],
      "text/plain": [
       "               drugs_related_stop  search_conducted\n",
       "stop_datetime                                      \n",
       "2005-12-31               0.007186          0.051098\n",
       "2006-12-31               0.005818          0.040134\n",
       "2007-12-31               0.007524          0.040876\n",
       "2008-12-31               0.006993          0.036069\n",
       "2009-12-31               0.011607          0.052646\n",
       "2010-12-31               0.008721          0.041458\n",
       "2011-12-31               0.008449          0.036436\n",
       "2012-12-31               0.010870          0.034052\n",
       "2013-12-31               0.011858          0.027624\n",
       "2014-12-31               0.013335          0.029834\n",
       "2015-12-31               0.010448          0.028308"
      ]
     },
     "execution_count": 354,
     "metadata": {},
     "output_type": "execute_result"
    }
   ],
   "source": [
    "annual"
   ]
  },
  {
   "cell_type": "code",
   "execution_count": 355,
   "metadata": {},
   "outputs": [
    {
     "data": {
      "image/png": "[encoded data removed]",
      "text/plain": [
       "<Figure size 432x288 with 2 Axes>"
      ]
     },
     "metadata": {
      "needs_background": "light"
     },
     "output_type": "display_data"
    }
   ],
   "source": [
    "\n",
    "# Create subplots from 'annual'\n",
    "annual.plot(subplots=True)\n",
    "\n",
    "# Display the subplots\n",
    "plt.show()"
   ]
  },
  {
   "cell_type": "code",
   "execution_count": 357,
   "metadata": {},
   "outputs": [
    {
     "name": "stdout",
     "output_type": "stream",
     "text": [
      "['0-15 Min' '16-30 Min' '30+ Min' '2' '1']\n"
     ]
    }
   ],
   "source": [
    "# Print the unique values in 'stop_duration'\n",
    "print(ri.stop_duration.unique())"
   ]
  },
  {
   "cell_type": "code",
   "execution_count": 358,
   "metadata": {},
   "outputs": [
    {
     "name": "stdout",
     "output_type": "stream",
     "text": [
      "['0-15 Min' '16-30 Min' '30+ Min' '2' '1']\n",
      "[ 8 23 45  2  1]\n"
     ]
    }
   ],
   "source": [
    "# Print the unique values in 'stop_duration'\n",
    "print(ri.stop_duration.unique())\n",
    "\n",
    "# Create a dictionary that maps strings to integers\n",
    "mapping = {'0-15 Min':8,'16-30 Min':23, '30+ Min':45, '2':2 ,'1':1}\n",
    "\n",
    "# Convert the 'stop_duration' strings to integers using the 'mapping'\n",
    "ri['stop_minutes'] = ri.stop_duration.map(mapping)\n",
    "\n",
    "# Print the unique values in 'stop_minutes'\n",
    "print(ri.stop_minutes.unique())"
   ]
  },
  {
   "cell_type": "code",
   "execution_count": 359,
   "metadata": {},
   "outputs": [
    {
     "data": {
      "text/plain": [
       "dtype('int64')"
      ]
     },
     "execution_count": 359,
     "metadata": {},
     "output_type": "execute_result"
    }
   ],
   "source": [
    "ri.stop_minutes.dtype"
   ]
  },
  {
   "cell_type": "code",
   "execution_count": 360,
   "metadata": {},
   "outputs": [
    {
     "name": "stdout",
     "output_type": "stream",
     "text": [
      "violation_raw\n",
      "APB                                 20.987342\n",
      "Call for Service                    22.034669\n",
      "Equipment/Inspection Violation      11.460345\n",
      "Motorist Assist/Courtesy            16.916256\n",
      "Other Traffic Violation             13.899532\n",
      "Registration Violation              13.745629\n",
      "Seatbelt Violation                   9.741531\n",
      "Special Detail/Directed Patrol      15.061100\n",
      "Speeding                            10.577598\n",
      "Suspicious Person                   18.750000\n",
      "Violation of City/Town Ordinance    13.388626\n",
      "Warrant                             21.400000\n",
      "Name: stop_minutes, dtype: float64\n"
     ]
    },
    {
     "data": {
      "image/png": "[encoded data removed]",
      "text/plain": [
       "<Figure size 432x288 with 1 Axes>"
      ]
     },
     "metadata": {
      "needs_background": "light"
     },
     "output_type": "display_data"
    }
   ],
   "source": [
    "# Calculate the mean 'stop_minutes' for each value in 'violation_raw'\n",
    "print(ri.groupby(\"violation_raw\")[\"stop_minutes\"].mean())\n",
    "\n",
    "# Save the resulting Series as 'stop_length'\n",
    "stop_length =ri.groupby(\"violation_raw\")[\"stop_minutes\"].mean()\n",
    "\n",
    "# Sort 'stop_length' by its values and create a horizontal bar plot\n",
    "stop_length.sort_values()\n",
    "stop_length.sort_values().plot(kind=\"barh\")\n",
    "\n",
    "# Display the plot\n",
    "plt.show()"
   ]
  },
  {
   "cell_type": "code",
   "execution_count": null,
   "metadata": {},
   "outputs": [],
   "source": []
  },
  {
   "cell_type": "code",
   "execution_count": null,
   "metadata": {},
   "outputs": [],
   "source": []
  },
  {
   "cell_type": "code",
   "execution_count": 361,
   "metadata": {},
   "outputs": [
    {
     "name": "stdout",
     "output_type": "stream",
     "text": [
      "              TMIN         TAVG         TMAX\n",
      "count  4017.000000  1217.000000  4017.000000\n",
      "mean     43.484441    52.493016    61.268608\n",
      "std      17.020298    17.830714    18.199517\n",
      "min      -5.000000     6.000000    15.000000\n",
      "25%      30.000000    39.000000    47.000000\n",
      "50%      44.000000    54.000000    62.000000\n",
      "75%      58.000000    68.000000    77.000000\n",
      "max      77.000000    86.000000   102.000000\n"
     ]
    },
    {
     "data": {
      "image/png": "[encoded data removed]",
      "text/plain": [
       "<Figure size 432x288 with 1 Axes>"
      ]
     },
     "metadata": {
      "needs_background": "light"
     },
     "output_type": "display_data"
    }
   ],
   "source": [
    "# Read 'weather.csv' into a DataFrame named 'weather'\n",
    "weather=pd.read_csv('weather.csv')\n",
    "\n",
    "# Describe the temperature columns\n",
    "print(weather[['TMIN', 'TAVG', 'TMAX']].describe())\n",
    "temp=weather[['TMIN', 'TAVG', 'TMAX']]\n",
    "# Create a box plot of the temperature columns\n",
    "temp.plot(kind='box')\n",
    "\n",
    "# Display the plot\n",
    "plt.show()"
   ]
  },
  {
   "cell_type": "code",
   "execution_count": 362,
   "metadata": {},
   "outputs": [
    {
     "name": "stdout",
     "output_type": "stream",
     "text": [
      "count    4017.000000\n",
      "mean       17.784167\n",
      "std         6.350720\n",
      "min         2.000000\n",
      "25%        14.000000\n",
      "50%        18.000000\n",
      "75%        22.000000\n",
      "max        43.000000\n",
      "Name: TDIFF, dtype: float64\n"
     ]
    },
    {
     "data": {
      "image/png": "[encoded data removed]",
      "text/plain": [
       "<Figure size 432x288 with 1 Axes>"
      ]
     },
     "metadata": {
      "needs_background": "light"
     },
     "output_type": "display_data"
    }
   ],
   "source": [
    "# Create a 'TDIFF' column that represents temperature difference\n",
    "weather[\"TDIFF\"]=weather.TMAX -weather.TMIN\n",
    "\n",
    "# Describe the 'TDIFF' column\n",
    "print(weather[\"TDIFF\"].describe())\n",
    "\n",
    "# Create a histogram with 20 bins to visualize 'TDIFF'\n",
    "weather[\"TDIFF\"].plot(kind=\"hist\",bins=20)\n",
    "\n",
    "# Display the plot\n",
    "plt.show()"
   ]
  },
  {
   "cell_type": "code",
   "execution_count": 363,
   "metadata": {},
   "outputs": [
    {
     "data": {
      "image/png": "[encoded data removed]",
      "text/plain": [
       "<Figure size 432x288 with 1 Axes>"
      ]
     },
     "metadata": {
      "needs_background": "light"
     },
     "output_type": "display_data"
    }
   ],
   "source": [
    "# Copy 'WT01' through 'WT22' to a new DataFrame\n",
    "WT = weather.loc[:,\"WT01\":\"WT22\"]\n",
    "\n",
    "# Calculate the sum of each row in 'WT'\n",
    "weather['bad_conditions'] = WT.sum(axis=1)\n",
    "\n",
    "# Replace missing values in 'bad_conditions' with '0'\n",
    "weather['bad_conditions'] = weather.bad_conditions.fillna(0).astype('int')\n",
    "\n",
    "# Create a histogram to visualize 'bad_conditions'\n",
    "weather['bad_conditions'].plot(kind=\"hist\")\n",
    "\n",
    "# Display the plot\n",
    "plt.show()"
   ]
  },
  {
   "cell_type": "code",
   "execution_count": 364,
   "metadata": {},
   "outputs": [
    {
     "name": "stdout",
     "output_type": "stream",
     "text": [
      "0    1749\n",
      "1     613\n",
      "2     367\n",
      "3     380\n",
      "4     476\n",
      "5     282\n",
      "6     101\n",
      "7      41\n",
      "8       4\n",
      "9       4\n",
      "Name: bad_conditions, dtype: int64\n",
      "bad      1836\n",
      "good     1749\n",
      "worse     432\n",
      "Name: rating, dtype: int64\n"
     ]
    }
   ],
   "source": [
    "# Count the unique values in 'bad_conditions' and sort the index\n",
    "print(weather.bad_conditions.value_counts().sort_index())\n",
    "\n",
    "# Create a dictionary that maps integers to strings\n",
    "mapping = {0:'good', 1:'bad', 2:'bad', 3:\"bad\",4:\"bad\", 5:\"worse\", 6:\"worse\", 7:\"worse\", 8:\"worse\", 9:\"worse\",}\n",
    "\n",
    "# Convert the 'bad_conditions' integers to strings using the 'mapping'\n",
    "weather['rating'] = weather.bad_conditions.map(mapping)\n",
    "\n",
    "# Count the unique values in 'rating'\n",
    "print(weather.rating.value_counts())"
   ]
  },
  {
   "cell_type": "code",
   "execution_count": 365,
   "metadata": {},
   "outputs": [
    {
     "name": "stdout",
     "output_type": "stream",
     "text": [
      "0    bad\n",
      "1    bad\n",
      "2    bad\n",
      "3    bad\n",
      "4    bad\n",
      "Name: rating, dtype: category\n",
      "Categories (3, object): ['bad', 'good', 'worse']\n"
     ]
    }
   ],
   "source": [
    "# Create a list of weather ratings in logical order\n",
    "cats=['good', 'bad', 'worse']\n",
    "\n",
    "# Change the data type of 'rating' to category\n",
    "weather['rating'] = weather.rating.astype(\"category\" )\n",
    "\n",
    "# Examine the head of 'rating'\n",
    "print(weather.rating.head())"
   ]
  },
  {
   "cell_type": "code",
   "execution_count": 366,
   "metadata": {},
   "outputs": [
    {
     "name": "stdout",
     "output_type": "stream",
     "text": [
      "        stop_datetime   stop_date stop_time driver_gender driver_race  \\\n",
      "0 2005-01-02 01:55:00  2005-01-02     01:55             M       White   \n",
      "1 2005-01-18 08:15:00  2005-01-18     08:15             M       White   \n",
      "2 2005-01-23 23:15:00  2005-01-23     23:15             M       White   \n",
      "3 2005-02-20 17:15:00  2005-02-20     17:15             M       White   \n",
      "4 2005-03-14 10:00:00  2005-03-14     10:00             F       White   \n",
      "\n",
      "      violation_raw violation  search_conducted search_type   stop_outcome  \\\n",
      "0          Speeding  Speeding             False         NaN       Citation   \n",
      "1          Speeding  Speeding             False         NaN       Citation   \n",
      "2          Speeding  Speeding             False         NaN       Citation   \n",
      "3  Call for Service     Other             False         NaN  Arrest Driver   \n",
      "4          Speeding  Speeding             False         NaN       Citation   \n",
      "\n",
      "   is_arrested stop_duration  drugs_related_stop  Inventory  frisk  \\\n",
      "0        False      0-15 Min               False      False  False   \n",
      "1        False      0-15 Min               False      False  False   \n",
      "2        False      0-15 Min               False      False  False   \n",
      "3         True     16-30 Min               False      False  False   \n",
      "4        False      0-15 Min               False      False  False   \n",
      "\n",
      "   stop_minutes  \n",
      "0             8  \n",
      "1             8  \n",
      "2             8  \n",
      "3            23  \n",
      "4             8  \n",
      "         DATE rating\n",
      "0  2005-01-01    bad\n",
      "1  2005-01-02    bad\n",
      "2  2005-01-03    bad\n",
      "3  2005-01-04    bad\n",
      "4  2005-01-05    bad\n"
     ]
    }
   ],
   "source": [
    "# Reset the index of 'ri'\n",
    "ri.reset_index(inplace=True)\n",
    "\n",
    "# Examine the head of 'ri'\n",
    "print(ri.head())\n",
    "\n",
    "# Create a DataFrame from the 'DATE' and 'rating' columns\n",
    "weather_rating=weather.loc[:,[\"DATE\",\"rating\"]]\n",
    "\n",
    "# Examine the head of 'weather_rating'\n",
    "print(weather_rating.head())"
   ]
  },
  {
   "cell_type": "code",
   "execution_count": 367,
   "metadata": {},
   "outputs": [
    {
     "name": "stdout",
     "output_type": "stream",
     "text": [
      "(86406, 16)\n",
      "(86406, 18)\n"
     ]
    }
   ],
   "source": [
    "# Examine the shape of 'ri'\n",
    "print(ri.shape)\n",
    "\n",
    "# Merge 'ri' and 'weather_rating' using a left join\n",
    "ri_weather = pd.merge(left=ri, right=weather_rating, left_on='stop_date', right_on='DATE', how='left')\n",
    "\n",
    "# Examine the shape of 'ri_weather'\n",
    "print(ri_weather.shape)\n",
    "\n",
    "# Set 'stop_datetime' as the index of 'ri_weather'\n",
    "ri_weather.set_index('stop_datetime', inplace=True)"
   ]
  },
  {
   "cell_type": "code",
   "execution_count": 368,
   "metadata": {},
   "outputs": [
    {
     "name": "stdout",
     "output_type": "stream",
     "text": [
      "0.03389810892762077\n"
     ]
    }
   ],
   "source": [
    "# Calculate the overall arrest rate\n",
    "print(ri_weather.is_arrested.mean())"
   ]
  },
  {
   "cell_type": "code",
   "execution_count": 369,
   "metadata": {},
   "outputs": [
    {
     "name": "stdout",
     "output_type": "stream",
     "text": [
      "rating\n",
      "bad      0.034378\n",
      "good     0.032453\n",
      "worse    0.039107\n",
      "Name: is_arrested, dtype: float64\n"
     ]
    }
   ],
   "source": [
    "# Calculate the arrest rate for each 'rating'\n",
    "print(ri_weather.groupby(\"rating\")[\"is_arrested\"].mean())"
   ]
  },
  {
   "cell_type": "code",
   "execution_count": 370,
   "metadata": {},
   "outputs": [
    {
     "name": "stdout",
     "output_type": "stream",
     "text": [
      "violation            rating\n",
      "Equipment            bad       0.058137\n",
      "                     good      0.051874\n",
      "                     worse     0.098385\n",
      "Moving violation     bad       0.054080\n",
      "                     good      0.056034\n",
      "                     worse     0.066807\n",
      "Other                bad       0.085547\n",
      "                     good      0.080735\n",
      "                     worse     0.051643\n",
      "Registration/plates  bad       0.110013\n",
      "                     good      0.085227\n",
      "                     worse     0.096970\n",
      "Seat belt            bad       0.019196\n",
      "                     good      0.028602\n",
      "                     worse     0.000000\n",
      "Speeding             bad       0.013237\n",
      "                     good      0.012606\n",
      "                     worse     0.015361\n",
      "Name: is_arrested, dtype: float64\n"
     ]
    }
   ],
   "source": [
    "# Calculate the arrest rate for each 'violation' and 'rating'\n",
    "print(ri_weather.groupby([\"violation\",\"rating\"])[\"is_arrested\"].mean())"
   ]
  },
  {
   "cell_type": "code",
   "execution_count": 371,
   "metadata": {},
   "outputs": [
    {
     "name": "stdout",
     "output_type": "stream",
     "text": [
      "violation            rating\n",
      "Equipment            bad       0.058137\n",
      "                     good      0.051874\n",
      "                     worse     0.098385\n",
      "Moving violation     bad       0.054080\n",
      "                     good      0.056034\n",
      "                     worse     0.066807\n",
      "Other                bad       0.085547\n",
      "                     good      0.080735\n",
      "                     worse     0.051643\n",
      "Registration/plates  bad       0.110013\n",
      "                     good      0.085227\n",
      "                     worse     0.096970\n",
      "Seat belt            bad       0.019196\n",
      "                     good      0.028602\n",
      "                     worse     0.000000\n",
      "Speeding             bad       0.013237\n",
      "                     good      0.012606\n",
      "                     worse     0.015361\n",
      "Name: is_arrested, dtype: float64\n",
      "0.054079696394686905\n",
      "rating\n",
      "bad      0.013237\n",
      "good     0.012606\n",
      "worse    0.015361\n",
      "Name: is_arrested, dtype: float64\n"
     ]
    }
   ],
   "source": [
    "# Save the output of the groupby operation from the last exercise\n",
    "arrest_rate = ri_weather.groupby(['violation', 'rating']).is_arrested.mean()\n",
    "\n",
    "# Print the 'arrest_rate' Series\n",
    "print(arrest_rate)\n",
    "\n",
    "# Print the arrest rate for moving violations in bad weather\n",
    "print(arrest_rate.loc['Moving violation', 'bad'])\n",
    "\n",
    "# Print the arrest rates for speeding violations in all three weather conditions\n",
    "print(arrest_rate.loc['Speeding'])"
   ]
  },
  {
   "cell_type": "code",
   "execution_count": 372,
   "metadata": {},
   "outputs": [
    {
     "name": "stdout",
     "output_type": "stream",
     "text": [
      "rating                    bad      good     worse\n",
      "violation                                        \n",
      "Equipment            0.058137  0.051874  0.098385\n",
      "Moving violation     0.054080  0.056034  0.066807\n",
      "Other                0.085547  0.080735  0.051643\n",
      "Registration/plates  0.110013  0.085227  0.096970\n",
      "Seat belt            0.019196  0.028602  0.000000\n",
      "Speeding             0.013237  0.012606  0.015361\n",
      "rating                    bad      good     worse\n",
      "violation                                        \n",
      "Equipment            0.058137  0.051874  0.098385\n",
      "Moving violation     0.054080  0.056034  0.066807\n",
      "Other                0.085547  0.080735  0.051643\n",
      "Registration/plates  0.110013  0.085227  0.096970\n",
      "Seat belt            0.019196  0.028602  0.000000\n",
      "Speeding             0.013237  0.012606  0.015361\n"
     ]
    }
   ],
   "source": [
    "# Unstack the 'arrest_rate' Series into a DataFrame\n",
    "print(arrest_rate.unstack())\n",
    "\n",
    "# Create the same DataFrame using a pivot table\n",
    "print(ri_weather.pivot_table(index='violation', columns='rating', values='is_arrested'))"
   ]
  },
  {
   "cell_type": "code",
   "execution_count": 1,
   "metadata": {},
   "outputs": [],
   "source": [
    "import datetime as dt"
   ]
  },
  {
   "cell_type": "code",
   "execution_count": 3,
   "metadata": {},
   "outputs": [],
   "source": [
    "c=dt.date.today()"
   ]
  },
  {
   "cell_type": "code",
   "execution_count": 4,
   "metadata": {},
   "outputs": [
    {
     "data": {
      "text/plain": [
       "2020"
      ]
     },
     "execution_count": 4,
     "metadata": {},
     "output_type": "execute_result"
    }
   ],
   "source": [
    "c.year"
   ]
  },
  {
   "cell_type": "code",
   "execution_count": 5,
   "metadata": {},
   "outputs": [
    {
     "data": {
      "text/plain": [
       "9"
      ]
     },
     "execution_count": 5,
     "metadata": {},
     "output_type": "execute_result"
    }
   ],
   "source": [
    "c.month"
   ]
  },
  {
   "cell_type": "code",
   "execution_count": 6,
   "metadata": {},
   "outputs": [
    {
     "data": {
      "text/plain": [
       "27"
      ]
     },
     "execution_count": 6,
     "metadata": {},
     "output_type": "execute_result"
    }
   ],
   "source": [
    "c.day"
   ]
  },
  {
   "cell_type": "code",
   "execution_count": 9,
   "metadata": {},
   "outputs": [
    {
     "data": {
      "text/plain": [
       "datetime.time"
      ]
     },
     "execution_count": 9,
     "metadata": {},
     "output_type": "execute_result"
    }
   ],
   "source": [
    "dt.time"
   ]
  },
  {
   "cell_type": "code",
   "execution_count": null,
   "metadata": {},
   "outputs": [],
   "source": []
  }
 ],
 "metadata": {
  "kernelspec": {
   "display_name": "Python 3",
   "language": "python",
   "name": "python3"
  },
  "language_info": {
   "codemirror_mode": {
    "name": "ipython",
    "version": 3
   },
   "file_extension": ".py",
   "mimetype": "text/x-python",
   "name": "python",
   "nbconvert_exporter": "python",
   "pygments_lexer": "ipython3",
   "version": "3.7.9"
  }
 },
 "nbformat": 4,
 "nbformat_minor": 4
}
